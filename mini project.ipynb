{
 "cells": [
  {
   "cell_type": "code",
   "execution_count": 1,
   "metadata": {},
   "outputs": [
    {
     "data": {
      "text/html": [
       "<span style=\"None\">displaylimit: Value None will be treated as 0 (no limit)</span>"
      ],
      "text/plain": [
       "displaylimit: Value None will be treated as 0 (no limit)"
      ]
     },
     "metadata": {},
     "output_type": "display_data"
    }
   ],
   "source": [
    "%load_ext sql\n",
    "%config SqlMagic.displaylimit = None"
   ]
  },
  {
   "cell_type": "code",
   "execution_count": 2,
   "metadata": {},
   "outputs": [
    {
     "data": {
      "text/html": [
       "<span style=\"None\">Connecting to &#x27;sqlite:///library.db&#x27;</span>"
      ],
      "text/plain": [
       "Connecting to 'sqlite:///library.db'"
      ]
     },
     "metadata": {},
     "output_type": "display_data"
    }
   ],
   "source": [
    "%sql sqlite:///library.db"
   ]
  },
  {
   "cell_type": "code",
   "execution_count": 3,
   "metadata": {},
   "outputs": [
    {
     "data": {
      "text/html": [
       "<span style=\"None\">Running query in &#x27;sqlite:///library.db&#x27;</span>"
      ],
      "text/plain": [
       "Running query in 'sqlite:///library.db'"
      ]
     },
     "metadata": {},
     "output_type": "display_data"
    },
    {
     "data": {
      "text/html": [
       "<table>\n",
       "    <thead>\n",
       "        <tr>\n",
       "        </tr>\n",
       "    </thead>\n",
       "    <tbody>\n",
       "    </tbody>\n",
       "</table>"
      ],
      "text/plain": [
       "++\n",
       "||\n",
       "++\n",
       "++"
      ]
     },
     "execution_count": 3,
     "metadata": {},
     "output_type": "execute_result"
    }
   ],
   "source": [
    "%%sql\n",
    "CREATE TABLE Member (\n",
    "    MemberID INTEGER PRIMARY KEY,\n",
    "    Name TEXT NOT NULL,\n",
    "    Address TEXT,\n",
    "    Email TEXT UNIQUE,\n",
    "    Phone TEXT UNIQUE,\n",
    "    MembershipType TEXT\n",
    ");\n",
    "\n",
    "CREATE TABLE Item (\n",
    "    ItemID INTEGER PRIMARY KEY,\n",
    "    Title TEXT NOT NULL,\n",
    "    Genre TEXT,\n",
    "    Type TEXT NOT NULL,\n",
    "    Availability BOOLEAN NOT NULL\n",
    ");\n",
    "\n",
    "CREATE TABLE Book (\n",
    "    ISBN TEXT PRIMARY KEY,\n",
    "    Title TEXT NOT NULL,\n",
    "    Author TEXT NOT NULL,\n",
    "    Publisher TEXT,\n",
    "    Year INTEGER,\n",
    "    Edition TEXT,\n",
    "    ItemID INTEGER UNIQUE,\n",
    "    FOREIGN KEY (ItemID) REFERENCES Item(ItemID)\n",
    ");\n",
    "\n",
    "CREATE TABLE Multimedia (\n",
    "    MediaID INTEGER PRIMARY KEY,\n",
    "    Title TEXT NOT NULL,\n",
    "    Artist TEXT,\n",
    "    Type TEXT,\n",
    "    Genre TEXT,\n",
    "    ItemID INTEGER UNIQUE,\n",
    "    FOREIGN KEY (ItemID) REFERENCES Item(ItemID)\n",
    ");\n",
    "\n",
    "CREATE TABLE Borrow (\n",
    "    BorrowID INTEGER PRIMARY KEY,\n",
    "    MemberID INTEGER,\n",
    "    ItemID INTEGER,\n",
    "    BorrowDate DATE NOT NULL,\n",
    "    DueDate DATE NOT NULL,\n",
    "    ReturnDate DATE,\n",
    "    FOREIGN KEY (MemberID) REFERENCES Member(MemberID),\n",
    "    FOREIGN KEY (ItemID) REFERENCES Item(ItemID)\n",
    ");\n",
    "\n",
    "CREATE TABLE Fine (\n",
    "    FineID INTEGER PRIMARY KEY,\n",
    "    MemberID INTEGER,\n",
    "    Amount DECIMAL(10,2) NOT NULL,\n",
    "    DueDate DATE NOT NULL,\n",
    "    PaidStatus BOOLEAN NOT NULL,\n",
    "    FOREIGN KEY (MemberID) REFERENCES Member(MemberID)\n",
    ");\n",
    "\n",
    "CREATE TABLE Event (\n",
    "    EventID INTEGER PRIMARY KEY,\n",
    "    Name TEXT NOT NULL,\n",
    "    Type TEXT,\n",
    "    Date DATE NOT NULL,\n",
    "    Time TEXT,\n",
    "    AudienceType TEXT\n",
    ");\n",
    "\n",
    "CREATE TABLE Room (\n",
    "    RoomID INTEGER PRIMARY KEY,\n",
    "    Name TEXT NOT NULL,\n",
    "    Capacity INTEGER NOT NULL,\n",
    "    Location TEXT\n",
    ");\n",
    "\n",
    "CREATE TABLE Personnel (\n",
    "    PersonnelID INTEGER PRIMARY KEY,\n",
    "    Name TEXT NOT NULL,\n",
    "    Role TEXT NOT NULL,\n",
    "    ContactDetails TEXT\n",
    ");\n",
    "\n",
    "CREATE TABLE ItemRecord (\n",
    "    RecordID INTEGER PRIMARY KEY,\n",
    "    Title TEXT NOT NULL,\n",
    "    ItemType TEXT,\n",
    "    DateAdded DATE NOT NULL\n",
    ");\n",
    "\n",
    "CREATE TABLE Attends (\n",
    "    MemberID INTEGER,\n",
    "    EventID INTEGER,\n",
    "    PRIMARY KEY (MemberID, EventID),\n",
    "    FOREIGN KEY (MemberID) REFERENCES Member(MemberID),\n",
    "    FOREIGN KEY (EventID) REFERENCES Event(EventID)\n",
    ");\n",
    "\n",
    "CREATE TABLE Manages (\n",
    "    PersonnelID INTEGER,\n",
    "    EventID INTEGER,\n",
    "    PRIMARY KEY (PersonnelID, EventID),\n",
    "    FOREIGN KEY (PersonnelID) REFERENCES Personnel(PersonnelID),\n",
    "    FOREIGN KEY (EventID) REFERENCES Event(EventID)\n",
    ");\n",
    "\n",
    "CREATE TABLE Held (\n",
    "    EventID INTEGER,\n",
    "    RoomID INTEGER,\n",
    "    PRIMARY KEY (EventID, RoomID),\n",
    "    FOREIGN KEY (EventID) REFERENCES Event(EventID),\n",
    "    FOREIGN KEY (RoomID) REFERENCES Room(RoomID)\n",
    ");\n"
   ]
  },
  {
   "cell_type": "code",
   "execution_count": 4,
   "metadata": {},
   "outputs": [
    {
     "data": {
      "text/html": [
       "<span style=\"None\">Running query in &#x27;sqlite:///library.db&#x27;</span>"
      ],
      "text/plain": [
       "Running query in 'sqlite:///library.db'"
      ]
     },
     "metadata": {},
     "output_type": "display_data"
    },
    {
     "data": {
      "text/html": [
       "<table>\n",
       "    <thead>\n",
       "        <tr>\n",
       "        </tr>\n",
       "    </thead>\n",
       "    <tbody>\n",
       "    </tbody>\n",
       "</table>"
      ],
      "text/plain": [
       "++\n",
       "||\n",
       "++\n",
       "++"
      ]
     },
     "execution_count": 4,
     "metadata": {},
     "output_type": "execute_result"
    }
   ],
   "source": [
    "%%sql\n",
    "-- Prevent borrowing an item that is not available\n",
    "CREATE TRIGGER PreventUnavailableBorrow\n",
    "BEFORE INSERT ON Borrow\n",
    "FOR EACH ROW\n",
    "WHEN (SELECT Availability FROM Item WHERE ItemID = NEW.ItemID) = 0\n",
    "BEGIN\n",
    "    SELECT RAISE(ABORT, 'Item is not available for borrowing');\n",
    "END;\n",
    "\n",
    "-- Automatically update item availability when borrowed\n",
    "CREATE TRIGGER UpdateItemAvailabilityBorrow\n",
    "AFTER INSERT ON Borrow\n",
    "FOR EACH ROW\n",
    "BEGIN\n",
    "    UPDATE Item SET Availability = 0 WHERE ItemID = NEW.ItemID;\n",
    "END;\n",
    "\n",
    "-- Automatically update item availability when returned\n",
    "CREATE TRIGGER UpdateItemAvailabilityReturn\n",
    "AFTER UPDATE ON Borrow\n",
    "FOR EACH ROW\n",
    "WHEN NEW.ReturnDate IS NOT NULL\n",
    "BEGIN\n",
    "    UPDATE Item SET Availability = 1 WHERE ItemID = NEW.ItemID;\n",
    "END;\n",
    "\n",
    "-- Prevent duplicate borrowing of the same item by the same member\n",
    "CREATE TRIGGER PreventDuplicateBorrow\n",
    "BEFORE INSERT ON Borrow\n",
    "FOR EACH ROW\n",
    "WHEN EXISTS (\n",
    "    SELECT 1 FROM Borrow\n",
    "    WHERE MemberID = NEW.MemberID AND ItemID = NEW.ItemID AND ReturnDate IS NULL\n",
    ")\n",
    "BEGIN\n",
    "    SELECT RAISE(ABORT, 'Member has already borrowed this item and has not returned it');\n",
    "END;\n",
    "\n",
    "-- Automatically issue a fine for overdue items\n",
    "CREATE TRIGGER IssueFineForOverdue\n",
    "AFTER UPDATE ON Borrow\n",
    "FOR EACH ROW\n",
    "WHEN NEW.ReturnDate > NEW.DueDate\n",
    "BEGIN\n",
    "    INSERT INTO Fine (MemberID, Amount, DueDate, PaidStatus)\n",
    "    VALUES (NEW.MemberID, 5.00 * (JULIANDAY(NEW.ReturnDate) - JULIANDAY(NEW.DueDate)), NEW.ReturnDate, 0);\n",
    "END;\n"
   ]
  },
  {
   "cell_type": "code",
   "execution_count": 5,
   "metadata": {},
   "outputs": [
    {
     "data": {
      "text/html": [
       "<span style=\"None\">Running query in &#x27;sqlite:///library.db&#x27;</span>"
      ],
      "text/plain": [
       "Running query in 'sqlite:///library.db'"
      ]
     },
     "metadata": {},
     "output_type": "display_data"
    },
    {
     "data": {
      "text/html": [
       "<span style=\"color: green\">10 rows affected.</span>"
      ],
      "text/plain": [
       "10 rows affected."
      ]
     },
     "metadata": {},
     "output_type": "display_data"
    },
    {
     "data": {
      "text/html": [
       "<span style=\"color: green\">10 rows affected.</span>"
      ],
      "text/plain": [
       "10 rows affected."
      ]
     },
     "metadata": {},
     "output_type": "display_data"
    },
    {
     "data": {
      "text/html": [
       "<span style=\"color: green\">10 rows affected.</span>"
      ],
      "text/plain": [
       "10 rows affected."
      ]
     },
     "metadata": {},
     "output_type": "display_data"
    },
    {
     "data": {
      "text/html": [
       "<span style=\"color: green\">10 rows affected.</span>"
      ],
      "text/plain": [
       "10 rows affected."
      ]
     },
     "metadata": {},
     "output_type": "display_data"
    },
    {
     "data": {
      "text/html": [
       "<span style=\"color: green\">7 rows affected.</span>"
      ],
      "text/plain": [
       "7 rows affected."
      ]
     },
     "metadata": {},
     "output_type": "display_data"
    },
    {
     "data": {
      "text/html": [
       "<span style=\"color: green\">10 rows affected.</span>"
      ],
      "text/plain": [
       "10 rows affected."
      ]
     },
     "metadata": {},
     "output_type": "display_data"
    },
    {
     "data": {
      "text/html": [
       "<span style=\"color: green\">10 rows affected.</span>"
      ],
      "text/plain": [
       "10 rows affected."
      ]
     },
     "metadata": {},
     "output_type": "display_data"
    },
    {
     "data": {
      "text/html": [
       "<span style=\"color: green\">10 rows affected.</span>"
      ],
      "text/plain": [
       "10 rows affected."
      ]
     },
     "metadata": {},
     "output_type": "display_data"
    },
    {
     "data": {
      "text/html": [
       "<span style=\"color: green\">10 rows affected.</span>"
      ],
      "text/plain": [
       "10 rows affected."
      ]
     },
     "metadata": {},
     "output_type": "display_data"
    },
    {
     "data": {
      "text/html": [
       "<span style=\"color: green\">10 rows affected.</span>"
      ],
      "text/plain": [
       "10 rows affected."
      ]
     },
     "metadata": {},
     "output_type": "display_data"
    },
    {
     "data": {
      "text/html": [
       "<table>\n",
       "    <thead>\n",
       "        <tr>\n",
       "        </tr>\n",
       "    </thead>\n",
       "    <tbody>\n",
       "    </tbody>\n",
       "</table>"
      ],
      "text/plain": [
       "++\n",
       "||\n",
       "++\n",
       "++"
      ]
     },
     "execution_count": 5,
     "metadata": {},
     "output_type": "execute_result"
    }
   ],
   "source": [
    "%%sql\n",
    "-- Insert 10 records into Member table\n",
    "INSERT INTO Member (Name, Address, Email, Phone, MembershipType)\n",
    "VALUES \n",
    "('John Doe', '123 Main St', 'john@example.com', '123-456-7890', 'Regular'),\n",
    "('Jane Smith', '456 Oak Ave', 'jane@example.com', '987-654-3210', 'Premium'),\n",
    "('Sam Wilson', '789 Pine Rd', 'sam@example.com', '555-123-4567', 'Regular'),\n",
    "('Emily Davis', '101 Maple Dr', 'emily@example.com', '555-765-4321', 'Premium'),\n",
    "('Michael Brown', '202 Birch Ln', 'michael@example.com', '555-234-5678', 'Regular'),\n",
    "('Jessica Taylor', '303 Cedar Blvd', 'jessica@example.com', '555-876-5432', 'Premium'),\n",
    "('Robert Lee', '404 Elm St', 'robert@example.com', '555-345-6789', 'Regular'),\n",
    "('Olivia Clark', '505 Oak St', 'olivia@example.com', '555-567-8901', 'Premium'),\n",
    "('James Walker', '606 Pine St', 'james@example.com', '555-678-9012', 'Regular'),\n",
    "('Sophia Martinez', '707 Maple Rd', 'sophia@example.com', '555-789-0123', 'Premium');\n",
    "\n",
    "-- Insert 10 records into Item table\n",
    "INSERT INTO Item (Title, Genre, Type, Availability)\n",
    "VALUES\n",
    "('The Great Gatsby', 'Classic', 'Book', 1),\n",
    "('Inception', 'Sci-Fi', 'Movie', 1),\n",
    "('The Matrix', 'Action', 'Movie', 0),\n",
    "('Harry Potter and the Sorcerers Stone', 'Fantasy', 'Book', 1),\n",
    "('The Shawshank Redemption', 'Drama', 'Movie', 1),\n",
    "('The Lord of the Rings', 'Fantasy', 'Book', 0),\n",
    "('The Dark Knight', 'Action', 'Movie', 1),\n",
    "('1984', 'Dystopian', 'Book', 1),\n",
    "('Pulp Fiction', 'Crime', 'Movie', 0),\n",
    "('The Godfather', 'Crime', 'Movie', 1);\n",
    "\n",
    "-- Insert 10 records into Book table\n",
    "INSERT INTO Book (ISBN, Title, Author, Publisher, Year, Edition, ItemID)\n",
    "VALUES\n",
    "('9780743273565', 'The Great Gatsby', 'F. Scott Fitzgerald', 'Scribner', 1925, '1st', 1),\n",
    "('9780439554930', 'Harry Potter and the Sorcerers Stone', 'J.K. Rowling', 'Scholastic', 1997, '1st', 4),\n",
    "('9780451524935', '1984', 'George Orwell', 'Signet', 1949, '1st', 8),\n",
    "('9780061122415', 'The Catcher in the Rye', 'J.D. Salinger', 'Little, Brown and Company', 1951, '1st', 11),\n",
    "('9781501101250', 'The Hobbit', 'J.R.R. Tolkien', 'HarperCollins', 1937, '1st', 14),\n",
    "('9780451530917', 'Brave New World', 'Aldous Huxley', 'Harper Perennial Modern Classics', 1932, '1st', 16),\n",
    "('9780062315007', 'The Book Thief', 'Markus Zusak', 'Alfred A. Knopf', 2005, '1st', 17),\n",
    "('9780316769488', 'To Kill a Mockingbird', 'Harper Lee', 'Harper Perennial Modern Classics', 1960, '1st', 18),\n",
    "('9780393972832', 'Moby-Dick', 'Herman Melville', 'W.W. Norton & Company', 1851, '1st', 19),\n",
    "('9780060850524', 'The Kite Runner', 'Khaled Hosseini', 'Riverhead Books', 2003, '1st', 20);\n",
    "\n",
    "-- Insert 10 records into Multimedia table\n",
    "INSERT INTO Multimedia (Title, Artist, Type, Genre, ItemID)\n",
    "VALUES\n",
    "('Shape of You', 'Ed Sheeran', 'Song', 'Pop', 2),\n",
    "('Blinding Lights', 'The Weeknd', 'Song', 'Pop', 3),\n",
    "('Bohemian Rhapsody', 'Queen', 'Song', 'Rock', 5),\n",
    "('Stairway to Heaven', 'Led Zeppelin', 'Song', 'Rock', 6),\n",
    "('Rolling in the Deep', 'Adele', 'Song', 'Pop', 7),\n",
    "('Hotel California', 'Eagles', 'Song', 'Rock', 8),\n",
    "('Imagine', 'John Lennon', 'Song', 'Rock', 9),\n",
    "('Like a Rolling Stone', 'Bob Dylan', 'Song', 'Rock', 10),\n",
    "('Smells Like Teen Spirit', 'Nirvana', 'Song', 'Rock', 11),\n",
    "('Sweet Child O Mine', 'Guns N Roses', 'Song', 'Rock', 12);\n",
    "\n",
    "-- Insert 10 records into Borrow table\n",
    "INSERT INTO Borrow (MemberID, ItemID, BorrowDate, DueDate, ReturnDate)\n",
    "VALUES\n",
    "(1, 1, '2025-03-01', '2025-03-14', '2025-03-12'),\n",
    "(2, 2, '2025-03-02', '2025-03-15', NULL),\n",
    "(4, 4, '2025-03-04', '2025-03-17', NULL),\n",
    "(5, 5, '2025-03-05', '2025-03-18', '2025-03-17'),\n",
    "(7, 7, '2025-03-07', '2025-03-20', '2025-03-19'),\n",
    "(8, 8, '2025-03-08', '2025-03-21', NULL),\n",
    "(10, 10, '2025-03-10', '2025-03-23', NULL);\n",
    "\n",
    "-- Insert 10 records into Fine table\n",
    "INSERT INTO Fine (MemberID, Amount, DueDate, PaidStatus)\n",
    "VALUES\n",
    "(1, 5.00, '2025-03-14', 0),\n",
    "(2, 10.00, '2025-03-15', 1),\n",
    "(3, 15.00, '2025-03-16', 0),\n",
    "(4, 20.00, '2025-03-17', 1),\n",
    "(5, 25.00, '2025-03-18', 0),\n",
    "(6, 30.00, '2025-03-19', 1),\n",
    "(7, 35.00, '2025-03-20', 0),\n",
    "(8, 40.00, '2025-03-21', 1),\n",
    "(9, 45.00, '2025-03-22', 0),\n",
    "(10, 50.00, '2025-03-23', 1);\n",
    "\n",
    "-- Insert 10 records into Event table\n",
    "INSERT INTO Event (Name, Type, Date, Time, AudienceType)\n",
    "VALUES\n",
    "('Book Club', 'Meeting', '2025-03-15', '10:00 AM', 'Adults'),\n",
    "('Library Workshop', 'Workshop', '2025-03-16', '11:00 AM', 'All Ages'),\n",
    "('Film Screening', 'Event', '2025-03-17', '2:00 PM', 'Teens'),\n",
    "('Charity Event', 'Event', '2025-03-18', '4:00 PM', 'Adults'),\n",
    "('Author Talk', 'Talk', '2025-03-19', '3:00 PM', 'All Ages'),\n",
    "('Poetry Reading', 'Reading', '2025-03-20', '5:00 PM', 'Adults'),\n",
    "('Cooking Class', 'Class', '2025-03-21', '12:00 PM', 'All Ages'),\n",
    "('Game Night', 'Event', '2025-03-22', '7:00 PM', 'Teens'),\n",
    "('Concert', 'Music', '2025-03-23', '8:00 PM', 'All Ages'),\n",
    "('Art Show', 'Exhibition', '2025-03-24', '10:00 AM', 'Adults');\n",
    "\n",
    "-- Insert 10 records into Room table\n",
    "INSERT INTO Room (Name, Capacity, Location)\n",
    "VALUES\n",
    "('Room A', 50, 'First Floor'),\n",
    "('Room B', 30, 'Second Floor'),\n",
    "('Room C', 20, 'Third Floor'),\n",
    "('Room D', 100, 'First Floor'),\n",
    "('Room E', 40, 'Second Floor'),\n",
    "('Room F', 60, 'Third Floor'),\n",
    "('Room G', 80, 'First Floor'),\n",
    "('Room H', 25, 'Second Floor'),\n",
    "('Room I', 70, 'Third Floor'),\n",
    "('Room J', 90, 'First Floor');\n",
    "\n",
    "-- Insert 10 records into Personnel table\n",
    "INSERT INTO Personnel (Name, Role, ContactDetails)\n",
    "VALUES\n",
    "('John Smith', 'Librarian', '555-123-4567'),\n",
    "('Sarah Johnson', 'Event Coordinator', '555-234-5678'),\n",
    "('David Brown', 'Technician', '555-345-6789'),\n",
    "('Emily White', 'Manager', '555-456-7890'),\n",
    "('Chris Green', 'Assistant Librarian', '555-567-8901'),\n",
    "('Daniel Black', 'Security', '555-678-9012'),\n",
    "('Laura Blue', 'Assistant Manager', '555-789-0123'),\n",
    "('Michael Gray', 'Technician', '555-890-1234'),\n",
    "('Olivia Red', 'Coordinator', '555-901-2345'),\n",
    "('James Purple', 'Security', '555-012-3456');\n",
    "\n",
    "-- Insert 10 records into ItemRecord table\n",
    "INSERT INTO ItemRecord (Title, ItemType, DateAdded)\n",
    "VALUES\n",
    "('The Great Gatsby', 'Book', '2025-03-01'),\n",
    "('Inception', 'Movie', '2025-03-02'),\n",
    "('Harry Potter and the Sorcerers Stone', 'Book', '2025-03-03'),\n",
    "('The Shawshank Redemption', 'Movie', '2025-03-04'),\n",
    "('The Lord of the Rings', 'Book', '2025-03-05'),\n",
    "('The Dark Knight', 'Movie', '2025-03-06'),\n",
    "('1984', 'Book', '2025-03-07'),\n",
    "('Pulp Fiction', 'Movie', '2025-03-08'),\n",
    "('The Godfather', 'Movie', '2025-03-09'),\n",
    "('The Catcher in the Rye', 'Book', '2025-03-10');"
   ]
  }
 ],
 "metadata": {
  "kernelspec": {
   "display_name": "base",
   "language": "python",
   "name": "python3"
  },
  "language_info": {
   "codemirror_mode": {
    "name": "ipython",
    "version": 3
   },
   "file_extension": ".py",
   "mimetype": "text/x-python",
   "name": "python",
   "nbconvert_exporter": "python",
   "pygments_lexer": "ipython3",
   "version": "3.12.2"
  }
 },
 "nbformat": 4,
 "nbformat_minor": 2
}
