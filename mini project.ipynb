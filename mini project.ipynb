{
 "cells": [
  {
   "cell_type": "code",
   "execution_count": 1,
   "metadata": {},
   "outputs": [
    {
     "data": {
      "text/html": [
       "<span style=\"None\">displaylimit: Value None will be treated as 0 (no limit)</span>"
      ],
      "text/plain": [
       "displaylimit: Value None will be treated as 0 (no limit)"
      ]
     },
     "metadata": {},
     "output_type": "display_data"
    }
   ],
   "source": [
    "%load_ext sql\n",
    "%config SqlMagic.displaylimit = None"
   ]
  },
  {
   "cell_type": "code",
   "execution_count": 2,
   "metadata": {},
   "outputs": [
    {
     "data": {
      "text/html": [
       "<span style=\"None\">Connecting to &#x27;sqlite:///library.db&#x27;</span>"
      ],
      "text/plain": [
       "Connecting to 'sqlite:///library.db'"
      ]
     },
     "metadata": {},
     "output_type": "display_data"
    }
   ],
   "source": [
    "%sql sqlite:///library.db"
   ]
  },
  {
   "cell_type": "code",
   "execution_count": 3,
   "metadata": {},
   "outputs": [
    {
     "data": {
      "text/html": [
       "<span style=\"None\">Running query in &#x27;sqlite:///library.db&#x27;</span>"
      ],
      "text/plain": [
       "Running query in 'sqlite:///library.db'"
      ]
     },
     "metadata": {},
     "output_type": "display_data"
    },
    {
     "data": {
      "text/html": [
       "<table>\n",
       "    <thead>\n",
       "        <tr>\n",
       "        </tr>\n",
       "    </thead>\n",
       "    <tbody>\n",
       "    </tbody>\n",
       "</table>"
      ],
      "text/plain": [
       "++\n",
       "||\n",
       "++\n",
       "++"
      ]
     },
     "execution_count": 3,
     "metadata": {},
     "output_type": "execute_result"
    }
   ],
   "source": [
    "%%sql\n",
    "CREATE TABLE Member (\n",
    "    MemberID INTEGER PRIMARY KEY,\n",
    "    Name TEXT NOT NULL,\n",
    "    Address TEXT,\n",
    "    Email TEXT UNIQUE,\n",
    "    Phone TEXT UNIQUE,\n",
    "    MembershipType TEXT\n",
    ");\n",
    "\n",
    "CREATE TABLE Item (\n",
    "    ItemID INTEGER PRIMARY KEY,\n",
    "    Title TEXT NOT NULL,\n",
    "    Genre TEXT,\n",
    "    Type TEXT NOT NULL,\n",
    "    Availability BOOLEAN NOT NULL\n",
    ");\n",
    "\n",
    "CREATE TABLE Book (\n",
    "    ISBN TEXT PRIMARY KEY,\n",
    "    Title TEXT NOT NULL,\n",
    "    Author TEXT NOT NULL,\n",
    "    Publisher TEXT,\n",
    "    Year INTEGER,\n",
    "    Edition TEXT,\n",
    "    ItemID INTEGER UNIQUE,\n",
    "    FOREIGN KEY (ItemID) REFERENCES Item(ItemID)\n",
    ");\n",
    "\n",
    "CREATE TABLE Multimedia (\n",
    "    MediaID INTEGER PRIMARY KEY,\n",
    "    Title TEXT NOT NULL,\n",
    "    Artist TEXT,\n",
    "    Type TEXT,\n",
    "    Genre TEXT,\n",
    "    ItemID INTEGER UNIQUE,\n",
    "    FOREIGN KEY (ItemID) REFERENCES Item(ItemID)\n",
    ");\n",
    "\n",
    "CREATE TABLE Borrow (\n",
    "    BorrowID INTEGER PRIMARY KEY,\n",
    "    MemberID INTEGER,\n",
    "    ItemID INTEGER,\n",
    "    BorrowDate DATE NOT NULL,\n",
    "    DueDate DATE NOT NULL,\n",
    "    ReturnDate DATE,\n",
    "    FOREIGN KEY (MemberID) REFERENCES Member(MemberID),\n",
    "    FOREIGN KEY (ItemID) REFERENCES Item(ItemID)\n",
    ");\n",
    "\n",
    "CREATE TABLE Fine (\n",
    "    FineID INTEGER PRIMARY KEY,\n",
    "    MemberID INTEGER,\n",
    "    Amount DECIMAL(10,2) NOT NULL,\n",
    "    DueDate DATE NOT NULL,\n",
    "    PaidStatus BOOLEAN NOT NULL,\n",
    "    FOREIGN KEY (MemberID) REFERENCES Member(MemberID)\n",
    ");\n",
    "\n",
    "CREATE TABLE Event (\n",
    "    EventID INTEGER PRIMARY KEY,\n",
    "    Name TEXT NOT NULL,\n",
    "    Type TEXT,\n",
    "    Date DATE NOT NULL,\n",
    "    Time TEXT,\n",
    "    AudienceType TEXT\n",
    ");\n",
    "\n",
    "CREATE TABLE Room (\n",
    "    RoomID INTEGER PRIMARY KEY,\n",
    "    Name TEXT NOT NULL,\n",
    "    Capacity INTEGER NOT NULL,\n",
    "    Location TEXT\n",
    ");\n",
    "\n",
    "CREATE TABLE Personnel (\n",
    "    PersonnelID INTEGER PRIMARY KEY,\n",
    "    Name TEXT NOT NULL,\n",
    "    Role TEXT NOT NULL,\n",
    "    ContactDetails TEXT\n",
    ");\n",
    "\n",
    "CREATE TABLE ItemRecord (\n",
    "    RecordID INTEGER PRIMARY KEY,\n",
    "    Title TEXT NOT NULL,\n",
    "    ItemType TEXT,\n",
    "    DateAdded DATE NOT NULL\n",
    ");\n",
    "\n",
    "CREATE TABLE Attends (\n",
    "    MemberID INTEGER,\n",
    "    EventID INTEGER,\n",
    "    PRIMARY KEY (MemberID, EventID),\n",
    "    FOREIGN KEY (MemberID) REFERENCES Member(MemberID),\n",
    "    FOREIGN KEY (EventID) REFERENCES Event(EventID)\n",
    ");\n",
    "\n",
    "CREATE TABLE Manages (\n",
    "    PersonnelID INTEGER,\n",
    "    EventID INTEGER,\n",
    "    PRIMARY KEY (PersonnelID, EventID),\n",
    "    FOREIGN KEY (PersonnelID) REFERENCES Personnel(PersonnelID),\n",
    "    FOREIGN KEY (EventID) REFERENCES Event(EventID)\n",
    ");\n",
    "\n",
    "CREATE TABLE Held (\n",
    "    EventID INTEGER,\n",
    "    RoomID INTEGER,\n",
    "    PRIMARY KEY (EventID, RoomID),\n",
    "    FOREIGN KEY (EventID) REFERENCES Event(EventID),\n",
    "    FOREIGN KEY (RoomID) REFERENCES Room(RoomID)\n",
    ");\n"
   ]
  },
  {
   "cell_type": "code",
   "execution_count": 4,
   "metadata": {},
   "outputs": [
    {
     "data": {
      "text/html": [
       "<span style=\"None\">Running query in &#x27;sqlite:///library.db&#x27;</span>"
      ],
      "text/plain": [
       "Running query in 'sqlite:///library.db'"
      ]
     },
     "metadata": {},
     "output_type": "display_data"
    },
    {
     "data": {
      "text/html": [
       "<table>\n",
       "    <thead>\n",
       "        <tr>\n",
       "        </tr>\n",
       "    </thead>\n",
       "    <tbody>\n",
       "    </tbody>\n",
       "</table>"
      ],
      "text/plain": [
       "++\n",
       "||\n",
       "++\n",
       "++"
      ]
     },
     "execution_count": 4,
     "metadata": {},
     "output_type": "execute_result"
    }
   ],
   "source": [
    "%%sql\n",
    "-- Prevent borrowing an item that is not available\n",
    "CREATE TRIGGER PreventUnavailableBorrow\n",
    "BEFORE INSERT ON Borrow\n",
    "FOR EACH ROW\n",
    "WHEN (SELECT Availability FROM Item WHERE ItemID = NEW.ItemID) = 0\n",
    "BEGIN\n",
    "    SELECT RAISE(ABORT, 'Item is not available for borrowing');\n",
    "END;\n",
    "\n",
    "-- Automatically update item availability when borrowed\n",
    "CREATE TRIGGER UpdateItemAvailabilityBorrow\n",
    "AFTER INSERT ON Borrow\n",
    "FOR EACH ROW\n",
    "BEGIN\n",
    "    UPDATE Item SET Availability = 0 WHERE ItemID = NEW.ItemID;\n",
    "END;\n",
    "\n",
    "-- Automatically update item availability when returned\n",
    "CREATE TRIGGER UpdateItemAvailabilityReturn\n",
    "AFTER UPDATE ON Borrow\n",
    "FOR EACH ROW\n",
    "WHEN NEW.ReturnDate IS NOT NULL\n",
    "BEGIN\n",
    "    UPDATE Item SET Availability = 1 WHERE ItemID = NEW.ItemID;\n",
    "END;\n",
    "\n",
    "-- Prevent duplicate borrowing of the same item by the same member\n",
    "CREATE TRIGGER PreventDuplicateBorrow\n",
    "BEFORE INSERT ON Borrow\n",
    "FOR EACH ROW\n",
    "WHEN EXISTS (\n",
    "    SELECT 1 FROM Borrow\n",
    "    WHERE MemberID = NEW.MemberID AND ItemID = NEW.ItemID AND ReturnDate IS NULL\n",
    ")\n",
    "BEGIN\n",
    "    SELECT RAISE(ABORT, 'Member has already borrowed this item and has not returned it');\n",
    "END;\n",
    "\n",
    "-- Automatically issue a fine for overdue items\n",
    "CREATE TRIGGER IssueFineForOverdue\n",
    "AFTER UPDATE ON Borrow\n",
    "FOR EACH ROW\n",
    "WHEN NEW.ReturnDate > NEW.DueDate\n",
    "BEGIN\n",
    "    INSERT INTO Fine (MemberID, Amount, DueDate, PaidStatus)\n",
    "    VALUES (NEW.MemberID, 5.00 * (JULIANDAY(NEW.ReturnDate) - JULIANDAY(NEW.DueDate)), NEW.ReturnDate, 0);\n",
    "END;\n"
   ]
  },
  {
   "cell_type": "code",
   "execution_count": 5,
   "metadata": {},
   "outputs": [
    {
     "data": {
      "text/html": [
       "<span style=\"None\">Running query in &#x27;sqlite:///library.db&#x27;</span>"
      ],
      "text/plain": [
       "Running query in 'sqlite:///library.db'"
      ]
     },
     "metadata": {},
     "output_type": "display_data"
    },
    {
     "data": {
      "text/html": [
       "<span style=\"color: green\">3 rows affected.</span>"
      ],
      "text/plain": [
       "3 rows affected."
      ]
     },
     "metadata": {},
     "output_type": "display_data"
    },
    {
     "data": {
      "text/html": [
       "<span style=\"color: green\">4 rows affected.</span>"
      ],
      "text/plain": [
       "4 rows affected."
      ]
     },
     "metadata": {},
     "output_type": "display_data"
    },
    {
     "data": {
      "text/html": [
       "<span style=\"color: green\">2 rows affected.</span>"
      ],
      "text/plain": [
       "2 rows affected."
      ]
     },
     "metadata": {},
     "output_type": "display_data"
    },
    {
     "data": {
      "text/html": [
       "<span style=\"color: green\">2 rows affected.</span>"
      ],
      "text/plain": [
       "2 rows affected."
      ]
     },
     "metadata": {},
     "output_type": "display_data"
    },
    {
     "data": {
      "text/html": [
       "<span style=\"color: green\">2 rows affected.</span>"
      ],
      "text/plain": [
       "2 rows affected."
      ]
     },
     "metadata": {},
     "output_type": "display_data"
    },
    {
     "data": {
      "text/html": [
       "<span style=\"color: green\">1 rows affected.</span>"
      ],
      "text/plain": [
       "1 rows affected."
      ]
     },
     "metadata": {},
     "output_type": "display_data"
    },
    {
     "data": {
      "text/html": [
       "<span style=\"color: green\">2 rows affected.</span>"
      ],
      "text/plain": [
       "2 rows affected."
      ]
     },
     "metadata": {},
     "output_type": "display_data"
    },
    {
     "data": {
      "text/html": [
       "<span style=\"color: green\">2 rows affected.</span>"
      ],
      "text/plain": [
       "2 rows affected."
      ]
     },
     "metadata": {},
     "output_type": "display_data"
    },
    {
     "data": {
      "text/html": [
       "<span style=\"color: green\">2 rows affected.</span>"
      ],
      "text/plain": [
       "2 rows affected."
      ]
     },
     "metadata": {},
     "output_type": "display_data"
    },
    {
     "data": {
      "text/html": [
       "<span style=\"color: green\">2 rows affected.</span>"
      ],
      "text/plain": [
       "2 rows affected."
      ]
     },
     "metadata": {},
     "output_type": "display_data"
    },
    {
     "data": {
      "text/html": [
       "<span style=\"color: green\">2 rows affected.</span>"
      ],
      "text/plain": [
       "2 rows affected."
      ]
     },
     "metadata": {},
     "output_type": "display_data"
    },
    {
     "data": {
      "text/html": [
       "<span style=\"color: green\">1 rows affected.</span>"
      ],
      "text/plain": [
       "1 rows affected."
      ]
     },
     "metadata": {},
     "output_type": "display_data"
    },
    {
     "data": {
      "text/html": [
       "<span style=\"color: green\">2 rows affected.</span>"
      ],
      "text/plain": [
       "2 rows affected."
      ]
     },
     "metadata": {},
     "output_type": "display_data"
    },
    {
     "data": {
      "text/html": [
       "<table>\n",
       "    <thead>\n",
       "        <tr>\n",
       "        </tr>\n",
       "    </thead>\n",
       "    <tbody>\n",
       "    </tbody>\n",
       "</table>"
      ],
      "text/plain": [
       "++\n",
       "||\n",
       "++\n",
       "++"
      ]
     },
     "execution_count": 5,
     "metadata": {},
     "output_type": "execute_result"
    }
   ],
   "source": [
    "%%sql\n",
    "-- Insert sample Members\n",
    "INSERT INTO Member (MemberID, Name, Address, Email, Phone, MembershipType) VALUES\n",
    "(1, 'Alice Johnson', '123 Main St', 'alice@example.com', '1234567890', 'Regular'),\n",
    "(2, 'Bob Smith', '456 Elm St', 'bob@example.com', '9876543210', 'Premium'),\n",
    "(3, 'Charlie Brown', '789 Oak St', 'charlie@example.com', '5551234567', 'Regular');\n",
    "\n",
    "-- Insert sample Items\n",
    "INSERT INTO Item (ItemID, Title, Genre, Type, Availability) VALUES\n",
    "(1, 'The Great Gatsby', 'Fiction', 'Book', 1),\n",
    "(2, 'Interstellar', 'Sci-Fi', 'DVD', 1),\n",
    "(3, 'Python Programming', 'Education', 'Book', 1),\n",
    "(4, 'Bohemian Rhapsody', 'Music', 'CD', 1);\n",
    "\n",
    "-- Insert sample Books\n",
    "INSERT INTO Book (ISBN, Title, Author, Publisher, Year, Edition, ItemID) VALUES\n",
    "('9780743273565', 'The Great Gatsby', 'F. Scott Fitzgerald', 'Scribner', 1925, '1st', 1),\n",
    "('9780135166307', 'Python Programming', 'John Zelle', 'Franklin, Beedle & Associates', 2016, '3rd', 3);\n",
    "\n",
    "-- Insert sample Multimedia\n",
    "INSERT INTO Multimedia (MediaID, Title, Artist, Type, Genre, ItemID) VALUES\n",
    "(1, 'Interstellar', 'Hans Zimmer', 'DVD', 'Sci-Fi', 2),\n",
    "(2, 'Bohemian Rhapsody', 'Queen', 'CD', 'Rock', 4);\n",
    "\n",
    "-- Insert sample Borrow records\n",
    "INSERT INTO Borrow (BorrowID, MemberID, ItemID, BorrowDate, DueDate, ReturnDate) VALUES\n",
    "(1, 1, 1, '2025-02-01', '2025-02-14', NULL),\n",
    "(2, 2, 3, '2025-02-05', '2025-02-19', '2025-02-20'); -- Late return\n",
    "\n",
    "-- Insert sample Fines\n",
    "INSERT INTO Fine (FineID, MemberID, Amount, DueDate, PaidStatus) VALUES\n",
    "(1, 2, 5.00, '2025-02-20', 0); -- Fine for late return\n",
    "\n",
    "-- Insert sample Events\n",
    "INSERT INTO Event (EventID, Name, Type, Date, Time, AudienceType) VALUES\n",
    "(1, 'Book Club', 'Literary', '2025-03-01', '18:00', 'Adults'),\n",
    "(2, 'Story Time for Kids', 'Children', '2025-03-05', '10:00', 'Children');\n",
    "\n",
    "-- Insert sample Rooms\n",
    "INSERT INTO Room (RoomID, Name, Capacity, Location) VALUES\n",
    "(1, 'Conference Room A', 20, '1st Floor'),\n",
    "(2, 'Children''s Room', 15, '2nd Floor'); \n",
    "\n",
    "-- Insert sample Personnel\n",
    "INSERT INTO Personnel (PersonnelID, Name, Role, ContactDetails) VALUES\n",
    "(1, 'David Green', 'Librarian', 'david@library.com'),\n",
    "(2, 'Emma White', 'Event Coordinator', 'emma@library.com');\n",
    "\n",
    "-- Insert sample Item Records\n",
    "INSERT INTO ItemRecord (RecordID, Title, ItemType, DateAdded) VALUES\n",
    "(1, 'The Great Gatsby', 'Book', '2024-10-15'),\n",
    "(2, 'Interstellar', 'DVD', '2024-11-01');\n",
    "\n",
    "-- Insert sample Attends relationships\n",
    "INSERT INTO Attends (MemberID, EventID) VALUES\n",
    "(1, 1),\n",
    "(2, 2);\n",
    "\n",
    "-- Insert sample Manages relationships\n",
    "INSERT INTO Manages (PersonnelID, EventID) VALUES\n",
    "(2, 1); -- Emma White manages the Book Club event\n",
    "\n",
    "-- Insert sample Held relationships\n",
    "INSERT INTO Held (EventID, RoomID) VALUES\n",
    "(1, 1), -- Book Club in Conference Room A\n",
    "(2, 2); -- Story Time in Children's Room\n",
    "\n"
   ]
  }
 ],
 "metadata": {
  "kernelspec": {
   "display_name": "base",
   "language": "python",
   "name": "python3"
  },
  "language_info": {
   "codemirror_mode": {
    "name": "ipython",
    "version": 3
   },
   "file_extension": ".py",
   "mimetype": "text/x-python",
   "name": "python",
   "nbconvert_exporter": "python",
   "pygments_lexer": "ipython3",
   "version": "3.12.2"
  }
 },
 "nbformat": 4,
 "nbformat_minor": 2
}
